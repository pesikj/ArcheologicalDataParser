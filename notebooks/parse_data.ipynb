{
 "cells": [
  {
   "cell_type": "code",
   "execution_count": 43,
   "metadata": {
    "collapsed": true
   },
   "outputs": [],
   "source": [
    "import pandas\n",
    "import requests\n",
    "import xml.etree.ElementTree as ET\n",
    "\n",
    "# Adresa API - jde otevřít normálně v prohlížeči\n",
    "response = requests.get('https://api.aiscr.cz/dapro/oai?verb=ListRecords&metadataPrefix=oai_amcr&set=akce&metadataPrefix=oai_amcr')\n",
    "# Úprava kódování\n",
    "response.encoding = \"utf-8\""
   ]
  },
  {
   "cell_type": "code",
   "execution_count": 21,
   "outputs": [],
   "source": [
    "# Uložení dat do souboru - pouze pro kontrolu\n",
    "with open('list_records.xml', 'w', encoding=\"utf-8\") as f:\n",
    "    print(response.text, file=f)"
   ],
   "metadata": {
    "collapsed": false
   }
  },
  {
   "cell_type": "markdown",
   "source": [
    "Toto je nejsložitější část. Data jsou ve formátu XML, který je založený na používání párových značek. Například hodnota `vedouci_akce` je vložena do párových značek takto: `<vedouci_akce>Kos, Petr</vedouci_akce>`. Celá akce je pak uložená v párové značce `<akce></akce>`. My chceme načíst všechny párové značky `akce`, což za nás provede parametr `xpath=\".//akce`. Použitý je vyhledávají jazyk XPath, ale to řešit nemusíte, s ním už jinde asi pracovat nebudeme.\n",
    "\n",
    "Data jsou načtena do tabulky modulu `pandas`. Práci s modulem `pandas` budete probírat v rámci předmětu Python Data. Funguje podobně jako SQL, takže můžete vybírat konkrétní sloupečky, filtrovat řádky atd.\n",
    "\n",
    "![structure.PNG](assets/structure.PNG)"
   ],
   "metadata": {
    "collapsed": false
   }
  },
  {
   "cell_type": "code",
   "execution_count": 42,
   "outputs": [
    {
     "data": {
      "text/plain": "             typ  stav  je_nz        okres                katastr  \\\nident_cely                                                          \nM-9102504A     N     5      0      BŘECLAV       HUSTOPEČE U BRNA   \nM-9105056A     N     8      1        OPAVA        SLAVKOV U OPAVY   \nM-9106217A     N     8      1        OPAVA                 VÍTKOV   \nM-9106246A     N     8      1        OPAVA           ŠTĚPÁNKOVICE   \nC-201663968A   R     8      0  PLZEŇ-SEVER  KRALOVICE U RAKOVNÍKA   \n\n                      vedouci_akce               organizace  \\\nident_cely                                                    \nM-9102504A               Kos, Petr                ÚAPP Brno   \nM-9105056A             Malík, Petr       NPÚ ú.o.p. Ostrava   \nM-9106217A    Krasnokutská, Tereza       NPÚ ú.o.p. Ostrava   \nM-9106246A    Krasnokutská, Tereza       NPÚ ú.o.p. Ostrava   \nC-201663968A       Stráník, Daniel  Muzeum Mariánská Týnice   \n\n                                      uzivatelske_oznaceni specifikace_data  \\\nident_cely                                                                    \nM-9102504A                                        143/2004           přesně   \nM-9105056A                                        062/2011           přesně   \nM-9106217A                                        098/2016           přesně   \nM-9106246A                                        065/2016           přesně   \nC-201663968A  AR 8/2016 - Kralovice, Za Rájem, výstavba RD           přesně   \n\n             datum_zahajeni  ... child_dok_jednotka datum_podani_nz  \\\nident_cely                   ...                                      \nM-9102504A       0200-09-08  ...     M-9102504A-D01            None   \nM-9105056A       0201-08-09  ...     M-9105056A-D01      2023-01-18   \nM-9106217A       0201-09-19  ...     M-9106217A-D01      2023-02-01   \nM-9106246A       0206-06-19  ...     M-9106246A-D01      2023-01-25   \nC-201663968A     0216-05-01  ...   C-201663968A-D01      2022-02-21   \n\n             odpovedny_pracovnik_podani_nz datum_archivace  \\\nident_cely                                                   \nM-9102504A                            None            None   \nM-9105056A                    Anonym, ARÚB      2023-01-18   \nM-9106217A                    Anonym, ARÚB      2023-02-01   \nM-9106246A                    Anonym, ARÚB      2023-01-25   \nC-201663968A               Stráník, Daniel      2022-07-14   \n\n             odpovedny_pracovnik_archivace vazba_projekt_akce  child_dokument  \\\nident_cely                                                                      \nM-9102504A                            None                NaN            None   \nM-9105056A                    Anonym, ARÚB                NaN            None   \nM-9106217A                    Anonym, ARÚB                NaN            None   \nM-9106246A                    Anonym, ARÚB                NaN            None   \nC-201663968A               Švejcar, Ondřej                NaN  C-TX-202200118   \n\n             dalsi_katastry vedouci_akce_ostatni organizace_ostatni  \nident_cely                                                           \nM-9102504A             None                 None               None  \nM-9105056A             None                 None               None  \nM-9106217A             None                 None               None  \nM-9106246A             None                 None               None  \nC-201663968A           None                 None               None  \n\n[5 rows x 35 columns]",
      "text/html": "<div>\n<style scoped>\n    .dataframe tbody tr th:only-of-type {\n        vertical-align: middle;\n    }\n\n    .dataframe tbody tr th {\n        vertical-align: top;\n    }\n\n    .dataframe thead th {\n        text-align: right;\n    }\n</style>\n<table border=\"1\" class=\"dataframe\">\n  <thead>\n    <tr style=\"text-align: right;\">\n      <th></th>\n      <th>typ</th>\n      <th>stav</th>\n      <th>je_nz</th>\n      <th>okres</th>\n      <th>katastr</th>\n      <th>vedouci_akce</th>\n      <th>organizace</th>\n      <th>uzivatelske_oznaceni</th>\n      <th>specifikace_data</th>\n      <th>datum_zahajeni</th>\n      <th>...</th>\n      <th>child_dok_jednotka</th>\n      <th>datum_podani_nz</th>\n      <th>odpovedny_pracovnik_podani_nz</th>\n      <th>datum_archivace</th>\n      <th>odpovedny_pracovnik_archivace</th>\n      <th>vazba_projekt_akce</th>\n      <th>child_dokument</th>\n      <th>dalsi_katastry</th>\n      <th>vedouci_akce_ostatni</th>\n      <th>organizace_ostatni</th>\n    </tr>\n    <tr>\n      <th>ident_cely</th>\n      <th></th>\n      <th></th>\n      <th></th>\n      <th></th>\n      <th></th>\n      <th></th>\n      <th></th>\n      <th></th>\n      <th></th>\n      <th></th>\n      <th></th>\n      <th></th>\n      <th></th>\n      <th></th>\n      <th></th>\n      <th></th>\n      <th></th>\n      <th></th>\n      <th></th>\n      <th></th>\n      <th></th>\n    </tr>\n  </thead>\n  <tbody>\n    <tr>\n      <th>M-9102504A</th>\n      <td>N</td>\n      <td>5</td>\n      <td>0</td>\n      <td>BŘECLAV</td>\n      <td>HUSTOPEČE U BRNA</td>\n      <td>Kos, Petr</td>\n      <td>ÚAPP Brno</td>\n      <td>143/2004</td>\n      <td>přesně</td>\n      <td>0200-09-08</td>\n      <td>...</td>\n      <td>M-9102504A-D01</td>\n      <td>None</td>\n      <td>None</td>\n      <td>None</td>\n      <td>None</td>\n      <td>NaN</td>\n      <td>None</td>\n      <td>None</td>\n      <td>None</td>\n      <td>None</td>\n    </tr>\n    <tr>\n      <th>M-9105056A</th>\n      <td>N</td>\n      <td>8</td>\n      <td>1</td>\n      <td>OPAVA</td>\n      <td>SLAVKOV U OPAVY</td>\n      <td>Malík, Petr</td>\n      <td>NPÚ ú.o.p. Ostrava</td>\n      <td>062/2011</td>\n      <td>přesně</td>\n      <td>0201-08-09</td>\n      <td>...</td>\n      <td>M-9105056A-D01</td>\n      <td>2023-01-18</td>\n      <td>Anonym, ARÚB</td>\n      <td>2023-01-18</td>\n      <td>Anonym, ARÚB</td>\n      <td>NaN</td>\n      <td>None</td>\n      <td>None</td>\n      <td>None</td>\n      <td>None</td>\n    </tr>\n    <tr>\n      <th>M-9106217A</th>\n      <td>N</td>\n      <td>8</td>\n      <td>1</td>\n      <td>OPAVA</td>\n      <td>VÍTKOV</td>\n      <td>Krasnokutská, Tereza</td>\n      <td>NPÚ ú.o.p. Ostrava</td>\n      <td>098/2016</td>\n      <td>přesně</td>\n      <td>0201-09-19</td>\n      <td>...</td>\n      <td>M-9106217A-D01</td>\n      <td>2023-02-01</td>\n      <td>Anonym, ARÚB</td>\n      <td>2023-02-01</td>\n      <td>Anonym, ARÚB</td>\n      <td>NaN</td>\n      <td>None</td>\n      <td>None</td>\n      <td>None</td>\n      <td>None</td>\n    </tr>\n    <tr>\n      <th>M-9106246A</th>\n      <td>N</td>\n      <td>8</td>\n      <td>1</td>\n      <td>OPAVA</td>\n      <td>ŠTĚPÁNKOVICE</td>\n      <td>Krasnokutská, Tereza</td>\n      <td>NPÚ ú.o.p. Ostrava</td>\n      <td>065/2016</td>\n      <td>přesně</td>\n      <td>0206-06-19</td>\n      <td>...</td>\n      <td>M-9106246A-D01</td>\n      <td>2023-01-25</td>\n      <td>Anonym, ARÚB</td>\n      <td>2023-01-25</td>\n      <td>Anonym, ARÚB</td>\n      <td>NaN</td>\n      <td>None</td>\n      <td>None</td>\n      <td>None</td>\n      <td>None</td>\n    </tr>\n    <tr>\n      <th>C-201663968A</th>\n      <td>R</td>\n      <td>8</td>\n      <td>0</td>\n      <td>PLZEŇ-SEVER</td>\n      <td>KRALOVICE U RAKOVNÍKA</td>\n      <td>Stráník, Daniel</td>\n      <td>Muzeum Mariánská Týnice</td>\n      <td>AR 8/2016 - Kralovice, Za Rájem, výstavba RD</td>\n      <td>přesně</td>\n      <td>0216-05-01</td>\n      <td>...</td>\n      <td>C-201663968A-D01</td>\n      <td>2022-02-21</td>\n      <td>Stráník, Daniel</td>\n      <td>2022-07-14</td>\n      <td>Švejcar, Ondřej</td>\n      <td>NaN</td>\n      <td>C-TX-202200118</td>\n      <td>None</td>\n      <td>None</td>\n      <td>None</td>\n    </tr>\n  </tbody>\n</table>\n<p>5 rows × 35 columns</p>\n</div>"
     },
     "execution_count": 42,
     "metadata": {},
     "output_type": "execute_result"
    }
   ],
   "source": [
    "df = pandas.read_xml(response.text, xpath=\".//akce\", parser=\"etree\")\n",
    "# Metoda set_index nastaví index, který v pandas funguje podobně jako v databázích. Nastavíme jako index sloupec ident_cely\n",
    "df = df.set_index(\"ident_cely\")\n",
    "# Hlavička - podívám se na prvních pět řádku, jestli se data načetla v pořádku\n",
    "df.head()"
   ],
   "metadata": {
    "collapsed": false
   }
  },
  {
   "cell_type": "markdown",
   "source": [
    "Tady používáme jmenné prostory (name spaces). Ve jmených prostorech jsou definovány různé značky. My nyní potřebujeme tag `resumptionToken` (\"token pro pokračování\"), který řeší \"pokračování\" v požadavcích. Najednou je možné stáhnout pouze 1000 záznamů. Pro dalších 1000 záznamů musíme API využít znovu a dodat mu tento pokračovací token, aby API vědělo, které záznamy už nám poskytlo a které jsou nyní na řadě."
   ],
   "metadata": {
    "collapsed": false
   }
  },
  {
   "cell_type": "code",
   "execution_count": 39,
   "outputs": [
    {
     "name": "stdout",
     "output_type": "stream",
     "text": [
      "2023-03-24.oai_amcr.1000.akce.1000.1000...t\n"
     ]
    }
   ],
   "source": [
    "ns = {'oai': 'http://www.openarchives.org/OAI/2.0/'}\n",
    "\n",
    "root = ET.fromstring(response.text)\n",
    "resumptionToken = root.find('.//oai:', ns).text\n",
    "print(resumptionToken)"
   ],
   "metadata": {
    "collapsed": false
   }
  },
  {
   "cell_type": "markdown",
   "source": [
    "Zde je testovací uložení do CSV. Uvnitř hranatých závorek jsou pole (sloupce), které chceme uložit. Nám bude stačit pouze část dat, takže si vybereme ty sloupce, které nás zajímají."
   ],
   "metadata": {
    "collapsed": false
   }
  },
  {
   "cell_type": "code",
   "execution_count": 41,
   "outputs": [],
   "source": [
    "df_csv = df[[\"ident_cely\", \"vedouci_akce\", \"organizace\", \"katastr\", \"okres\", \"datum_zahajeni\", \"datum_ukonceni\"]]\n",
    "df_csv.to_csv(\"export.csv\")"
   ],
   "metadata": {
    "collapsed": false
   }
  },
  {
   "cell_type": "code",
   "execution_count": null,
   "outputs": [],
   "source": [],
   "metadata": {
    "collapsed": false
   }
  }
 ],
 "metadata": {
  "kernelspec": {
   "display_name": "Python 3",
   "language": "python",
   "name": "python3"
  },
  "language_info": {
   "codemirror_mode": {
    "name": "ipython",
    "version": 2
   },
   "file_extension": ".py",
   "mimetype": "text/x-python",
   "name": "python",
   "nbconvert_exporter": "python",
   "pygments_lexer": "ipython2",
   "version": "2.7.6"
  }
 },
 "nbformat": 4,
 "nbformat_minor": 0
}
